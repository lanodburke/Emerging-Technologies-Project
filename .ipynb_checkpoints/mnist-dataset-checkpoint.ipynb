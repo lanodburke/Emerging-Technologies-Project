{
 "cells": [
  {
   "cell_type": "markdown",
   "metadata": {},
   "source": [
    "# MNIST Dataset Notebook\n",
    "The MNIST dataset is a dataset that is built up of hand written digits derived from the NIST dataset. It is used for people to derive machine learning models for pattern recognition from a real world set of data. \n",
    "\n",
    "The MNIST data set is widely used for training image recognition classifiers. \n",
    "\n",
    "The dataset consists of:\n",
    "- 60,000 training images\n",
    "- 10,000 test images\n",
    "\n",
    "The dataset can be found on this website [here](http://yann.lecun.com/exdb/mnist/)."
   ]
  },
  {
   "cell_type": "code",
   "execution_count": 1,
   "metadata": {},
   "outputs": [
    {
     "data": {
      "text/html": [
       "<style>\n",
       "    table {\n",
       "        display: inline-block\n",
       "    }\n",
       "</style>"
      ],
      "text/plain": [
       "<IPython.core.display.HTML object>"
      ]
     },
     "metadata": {},
     "output_type": "display_data"
    }
   ],
   "source": [
    "# Align tables to left \n",
    "%%html\n",
    "<style>\n",
    "    table {\n",
    "        display: inline-block\n",
    "    }\n",
    "</style>"
   ]
  },
  {
   "cell_type": "markdown",
   "metadata": {},
   "source": [
    "## MNIST Dataset File format\n",
    "> All the integers in the files are stored in the MSB first (high endian) format used by most non-Intel processors. Users of Intel processors and other low-endian machines must flip the bytes of the header.\n",
    "\n",
    "The MNIST dataset is stored with the IDX file format extension. The IDX file format is a simple format for vectors and multidimensional matrices of various numerical types. \n",
    "\n",
    "The MNIST dataset consists of four files outlined below:\n",
    "\n",
    "| File          | Description       | \n",
    "| :------------ | ----------------- | \n",
    "| [train-images-idx3-ubyte.gz](http://yann.lecun.com/exdb/mnist/train-images-idx3-ubyte.gz) | training set images (9912422 bytes) | \n",
    "| [train-labels-idx1-ubyte.gz](http://yann.lecun.com/exdb/mnist/train-labels-idx1-ubyte.gz) | training set labels (28881 bytes) |\n",
    "| [t10k-images-idx3-ubyte.gz](http://yann.lecun.com/exdb/mnist/t10k-images-idx3-ubyte.gz) | test set images (1648877 bytes) | \n",
    "| [t10k-labels-idx1-ubyte.gz](http://yann.lecun.com/exdb/mnist/t10k-labels-idx1-ubyte.gz) | test set labels (4542 bytes) | \n",
    "\n",
    "> The first 5000 examples of the test set are taken from the original NIST training set. The last 5000 are taken from the original NIST test set. The first 5000 are cleaner and easier than the last 5000.  \n",
    "\n",
    "### Training set label file (train-labels-idx1-ubyte)\n",
    "The labels values are 0 to 9.\n",
    "\n",
    "| offset        | type           | value               | description              |\n",
    "| :------------ | -------------- | ------------------- | ------------------------ |\n",
    "| 0000          | 32 bit integer | 0x00000801(2049)    | magic number (MSB first) |\n",
    "| 0004          | 32 bit integer | 60000               | number of items          |\n",
    "| 0008          | unsigned byte  | ??                  | label                    |\n",
    "| 0009          | unsigned byte  | ??                  | label                    |\n",
    "\n",
    "### Training set image file (train-images-idx3-ubyte):\n",
    "Pixels are organized row-wise. Pixel values are 0 to 255. 0 means background (white), 255 means foreground (black).\n",
    "\n",
    "| offset        | type           | value               | description              |\n",
    "| :------------ | -------------- | ------------------- | ------------------------ |\n",
    "| 0000          | 32 bit integer | 0x00000803(2051)    | magic number             |\n",
    "| 0004          | 32 bit integer | 60000               | number of images         |\n",
    "| 0008          | 32 bit integer | 28                  | number of rows           |\n",
    "| 0012          | 32 bit integer | 28                  | number of columns        |\n",
    "| 0016          | unsigned byte  | ??                  | pixel                    |\n",
    "| 0017          | unsigned byte  | ??                  | pixel                    |\n",
    "| xxxx          | unsigned byte  | ??                  | pixel                    |\n",
    "\n",
    "\n",
    "### Test set label file (t10k-labels-idx1-ubyte)\n",
    "The labels values are 0 to 9.\n",
    "\n",
    "| offset        | type           | value               | description              |\n",
    "| :------------ | -------------- | ------------------- | ------------------------ |\n",
    "| 0000          | 32 bit integer | 0x00000801(2049     | magic number (MSB first) |\n",
    "| 0004          | 32 bit integer | 10000               | number of items          |\n",
    "| 0008          | unsigned byte  | ??                  | label                    |\n",
    "| 0009          | unsigned byte  | ??                  | label                    |\n",
    "\n",
    "### Test set image file (t10k-images-idx3-ubyte):\n",
    "Pixels are organized row-wise. Pixel values are 0 to 255. 0 means background (white), 255 means foreground (black). \n",
    "\n",
    "| offset        | type           | value               | description              |\n",
    "| :------------ | -------------- | ------------------- | ------------------------ |\n",
    "| 0000          | 32 bit integer | 0x00000803(2051)    | magic number             |\n",
    "| 0004          | 32 bit integer | 10000               | number of images         |\n",
    "| 0008          | 32 bit integer | 28                  | number of rows           |\n",
    "| 0012          | 32 bit integer | 28                  | number of columns        |\n",
    "| 0016          | unsigned byte  | ??                  | pixel                    |\n",
    "| 0017          | unsigned byte  | ??                  | pixel                    |\n",
    "| xxxx          | unsigned byte  | ??                  | pixel                    |"
   ]
  },
  {
   "cell_type": "code",
   "execution_count": null,
   "metadata": {},
   "outputs": [],
   "source": []
  }
 ],
 "metadata": {
  "kernelspec": {
   "display_name": "Python 3",
   "language": "python",
   "name": "python3"
  },
  "language_info": {
   "codemirror_mode": {
    "name": "ipython",
    "version": 3
   },
   "file_extension": ".py",
   "mimetype": "text/x-python",
   "name": "python",
   "nbconvert_exporter": "python",
   "pygments_lexer": "ipython3",
   "version": "3.6.5"
  }
 },
 "nbformat": 4,
 "nbformat_minor": 2
}
