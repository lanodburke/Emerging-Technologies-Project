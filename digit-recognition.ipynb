{
 "cells": [
  {
   "cell_type": "markdown",
   "metadata": {},
   "source": [
    "# Digit recognition Notebook\n",
    "This notebook should outline how the digit recognition script included in this project should work. It should outline how a Convolutional Neural Network works. It should also cover how to run the script and the different functions that it performs.\n",
    "\n",
    "The script was trained using the MNIST dataset that was covered in a previous notebook. MNIST is a dataset that consists of 60,000 training images and labels with hand written digits in the range of 0-9 that was taken from the NIST dataset. "
   ]
  },
  {
   "cell_type": "markdown",
   "metadata": {},
   "source": [
    "## Running the script\n",
    "To run the script you will need to clone the git repository from [here](https://github.com/lanodburke/Emerging-Technologies-Project.git).\n",
    "\n",
    "This script takes in command line arguments which are outlined below: \n",
    "- -h (help): will print some instructions describing the different parameters\n",
    "- -b (build): this will build the keras model that will be used to run the digit recognition\n",
    "- -t (test): this will take in an input file as an argument such as a PNG, JPG or any other image format\n",
    "\n",
    "### Build the model \n",
    "Builds the model and saves it with the .h5 file format\n",
    "```\n",
    "python digitrec.py -b\n",
    "```\n",
    "\n",
    "### Test the model\n",
    "Run the saved model and make a prediction on the image passed in as an argument\n",
    "```\n",
    "python digitrec.py -t image.png\n",
    "```"
   ]
  },
  {
   "cell_type": "markdown",
   "metadata": {},
   "source": [
    "## Convolutional Neural Network\n",
    "> Convolutional Neural Networks have a different architecture than regular Neural Networks. Regular Neural Networks transform an input by putting it through a series of hidden layers. Every layer is made up of a set of neurons, where each layer is fully connected to all neurons in the layer before. Finally, there is a last fully-connected layer — the output layer — that represent the predictions.\n",
    "\n",
    "> Convolutional Neural Networks are a bit different. First of all, the layers are organised in 3 dimensions: width, height and depth. Further, the neurons in one layer do not connect to all the neurons in the next layer but only to a small region of it. Lastly, the final output will be reduced to a single vector of probability scores, organized along the depth dimension.\n",
    "\n",
    "### Neural Network Architecture \n",
    "![alt text](http://cs231n.github.io/assets/nn1/neural_net2.jpeg \"Neural Network\")\n",
    "\n",
    "### Convolutional Neural Network Architecture\n",
    "![alt text](http://cs231n.github.io/assets/cnn/cnn.jpeg \"Convolutional Neural Network\")\n",
    "\n",
    "\n",
    "Convolutional Nerual networks have two parts: \n",
    "- Hidden layers/Feature extraction\n",
    "- Classification\n",
    "\n",
    "### Feature Extraction\n",
    "To understand feature extraction we first have to look at what is an image feature. \n",
    "\n",
    "An image feature can be described as a section of an image that is consistent with images of the same object. For example take an image of a cat, the cats eye can be seen as a visual feature of a cat. This feature is generally consistitent with most cats. \n",
    "\n",
    "Feature extraction extracts features in an image and finds a pattern between them and if these features are consistent between all images of an object it will learn that these features can be used to identify the object.\n",
    "\n",
    "The main feature of feature extraction in image classification is to transform the visual feature to a mathematical vector for computational use.\n",
    "\n",
    "We do this so computers will be able to compare the similarity of features easily.\n",
    "\n",
    "### Convolution\n",
    "> Convolution is the first layer to extract features from an input image. Convolution preserves the relationship between pixels by learning image features using small squares of input data. It is a mathematical operation that takes two inputs such as image matrix and a filter or kernal\n",
    "\n",
    "#### Example\n",
    "Consider a 5 x 5 whose image pixel values are 0, 1 and filter matrix 3 x 3 as shown in below\n",
    "\n",
    "![example](https://cdn-images-1.medium.com/max/1600/1*4yv0yIH0nVhSOv3AkLUIiw.png)\n",
    "\n",
    "Then the convolution of 5 x 5 image matrix multiplies with 3 x 3 filter matrix which is called “Feature Map” as output shown in below\n",
    "\n",
    "![example](https://cdn-images-1.medium.com/max/1600/1*MrGSULUtkXc0Ou07QouV8A.gif)\n",
    "\n",
    "Convolution of an image with different filters can perform operations such as edge detection, blur and sharpen by applying filters. The below example shows various convolution image after applying different types of filters (Kernels).\n",
    "\n",
    "![example](https://cdn-images-1.medium.com/max/1600/1*uJpkfkm2Lr72mJtRaqoKZg.png)\n",
    "\n",
    "The examples above were describing a convultion in 2D, but in reality these convolutions are performed in 3d as each image is represented by height, width and depth. The height and the width describe the position of the pixels in the image and the depth the describes the color channels i.e the RGB values. An example of a convultional operation can be seen below\n",
    "\n",
    "![example](https://cdn-images-1.medium.com/max/1600/1*EuSjHyyDRPAQUdKCKLTgIQ.png)\n",
    "\n",
    "### Classification \n",
    ">After the convolution layer, our classification part consists of a few fully connected layers. However, these fully connected layers can only accept 1 Dimensional data. To convert our 3D data to 1D, we use the function flatten in Python. This essentially arranges our 3D volume into a 1D vector.\n",
    "\n",
    ">The last layers of a Convolutional NN are fully connected layers. Neurons in a fully connected layer have full connections to all the activations in the previous layer. This part is in principle the same as a regular Neural Network.\n"
   ]
  },
  {
   "cell_type": "markdown",
   "metadata": {},
   "source": [
    "## Script overview\n",
    "This section of the notebook should cover how I implemented a convolutional neural network and the steps involved in doing so. It should also outline the different code snippets in the script explaining what each section does.\n",
    "\n",
    "### Required Imports\n",
    "Import the following packages that are required to run the script, you can install these libraries using the python package mangager tool pip.\n",
    "\n",
    "#### Example usage\n",
    "```\n",
    "pip install numpy\n",
    "```"
   ]
  },
  {
   "cell_type": "code",
   "execution_count": 4,
   "metadata": {},
   "outputs": [],
   "source": [
    "import numpy\n",
    "import os.path\n",
    "import sys, getopt\n",
    "import cv2\n",
    "import matplotlib.pyplot as plt\n",
    "from keras.datasets import mnist\n",
    "from keras.models import Sequential\n",
    "from keras.layers import Dense\n",
    "from keras.layers import Dropout\n",
    "from keras.layers import Flatten\n",
    "from keras.layers.convolutional import Conv2D\n",
    "from keras.layers.convolutional import MaxPooling2D\n",
    "from keras.utils import np_utils\n",
    "from keras import backend as K\n",
    "from keras.models import load_model\n",
    "from keras.preprocessing import image\n",
    "K.set_image_dim_ordering('th')"
   ]
  },
  {
   "cell_type": "markdown",
   "metadata": {},
   "source": [
    "### Loading the MNIST dataset \n",
    "For this script I decided to use the keras implementation of the MNIST dataset, to load the dataset you just need to call the function outlined below."
   ]
  },
  {
   "cell_type": "code",
   "execution_count": 3,
   "metadata": {},
   "outputs": [],
   "source": [
    "# Load MNIST dataset from keras\n",
    "(X_train, y_train), (X_test, y_test) = mnist.load_data()"
   ]
  },
  {
   "cell_type": "markdown",
   "metadata": {},
   "source": [
    "### Reshaping the dataset\n",
    "To use the MNIST dataset as a training set we need to run a few operations to prepare it as inputs for our model, this can be seen in the ```pre_process()``` function in the script."
   ]
  },
  {
   "cell_type": "code",
   "execution_count": 5,
   "metadata": {},
   "outputs": [],
   "source": [
    "def pre_process():\n",
    "    (X_train, y_train), (X_test, y_test) = mnist.load_data()\n",
    "\n",
    "    # reshape to be samples, pixels, width, height\n",
    "    X_train = X_train.reshape(X_train.shape[0], 1, 28, 28).astype('float32')\n",
    "    X_test = X_test.reshape(X_test.shape[0], 1, 28, 28).astype('float32')\n",
    "\n",
    "    # normalize inputs from 0-255 to 0-1\n",
    "    X_train = X_train / 255\n",
    "    X_test = X_test / 255\n",
    "    # one hot encode outputs\n",
    "    y_train = np_utils.to_categorical(y_train)\n",
    "    y_test = np_utils.to_categorical(y_test)\n",
    "\n",
    "    return (X_train, y_train), (X_test, y_test)"
   ]
  },
  {
   "cell_type": "markdown",
   "metadata": {},
   "source": [
    "### Building the model\n",
    "To build the model we will be using keras and tensorflow. Keras is an open source python library that provides a set of tools to allow developers to design neural networks with relative ease. "
   ]
  },
  {
   "cell_type": "code",
   "execution_count": 6,
   "metadata": {},
   "outputs": [],
   "source": [
    "def build_model(X_train, y_train, X_test, y_test, num_classes):\n",
    "    model = Sequential()\n",
    "    model.add(Conv2D(32, (5, 5), input_shape=(1, 28, 28), activation='relu'))\n",
    "    model.add(MaxPooling2D(pool_size=(2, 2)))\n",
    "    model.add(Dropout(0.2))\n",
    "    model.add(Flatten())\n",
    "    model.add(Dense(128, activation='relu'))\n",
    "    model.add(Dense(num_classes, activation='softmax'))\n",
    "    # Compile model\n",
    "    model.compile(loss='categorical_crossentropy', optimizer='adam', metrics=['accuracy'])\n",
    "    # Fit the model\n",
    "    model.fit(X_train, y_train, validation_data=(X_test, y_test), epochs=10, batch_size=200)\n",
    "    return model"
   ]
  },
  {
   "cell_type": "markdown",
   "metadata": {},
   "source": [
    "### Code Summary\n",
    "Lets go over the function above in detail so we can try and understand exactly whats going on.\n",
    "- First layer in the model is a Convolutional layer with 32 filters/outputs, with the size of 5 * 5 and the relu (Rectified Linear Unit) activation function. This is the input layer which expects images with the following format; (height, width, channels). Channels in this case are set to 0-1 as images are grayscale and not in the full RGB range.\n",
    "- The second layer in the model is a Max Pooling layer. Max pooling is done by applying a max filter to (usually) non-overlapping subregions of the initial representation. The objective is to down-sample an input representation, reducing its dimensionality and allowing for assumptions to be made about features contained in the sub-regions. This is done to in part to help over-fitting by providing an abstracted form of the representation.\n",
    "- Third layer is a Dropout layer to exclude a certain number of neurons during training in this instance it will exclude 20%. This is used as to not over fit the model.\n",
    "- Fourth layer in the model is a flatten layer. This will flatten the output from the Convultional layer to a vector that can be used by the classification step in the model.\n",
    "- Fifth layer is a fully connected layer with 128 neurons.\n",
    "- The last layer is a Dense layer with the number of classes in the dataset with the softmax activation function."
   ]
  },
  {
   "cell_type": "markdown",
   "metadata": {},
   "source": [
    "### Evaluating training\n",
    "Display training evaluation graphs with function that I found from [here](https://www.kaggle.com/danbrice/keras-plot-history-full-report-and-grid-search)."
   ]
  },
  {
   "cell_type": "code",
   "execution_count": 13,
   "metadata": {},
   "outputs": [
    {
     "name": "stdout",
     "output_type": "stream",
     "text": [
      "Train on 60000 samples, validate on 10000 samples\n",
      "Epoch 1/10\n",
      "60000/60000 [==============================] - 77s 1ms/step - loss: 0.0135 - acc: 0.9956 - val_loss: 0.0358 - val_acc: 0.9890\n",
      "Epoch 2/10\n",
      "60000/60000 [==============================] - 78s 1ms/step - loss: 0.0102 - acc: 0.9967 - val_loss: 0.0342 - val_acc: 0.9887\n",
      "Epoch 3/10\n",
      "60000/60000 [==============================] - 75s 1ms/step - loss: 0.0093 - acc: 0.9970 - val_loss: 0.0384 - val_acc: 0.9884\n",
      "Epoch 4/10\n",
      "60000/60000 [==============================] - 75s 1ms/step - loss: 0.0070 - acc: 0.9978 - val_loss: 0.0340 - val_acc: 0.9896\n",
      "Epoch 5/10\n",
      "60000/60000 [==============================] - 74s 1ms/step - loss: 0.0069 - acc: 0.9979 - val_loss: 0.0360 - val_acc: 0.9890\n",
      "Epoch 6/10\n",
      "60000/60000 [==============================] - 75s 1ms/step - loss: 0.0064 - acc: 0.9982 - val_loss: 0.0348 - val_acc: 0.9906\n",
      "Epoch 7/10\n",
      "60000/60000 [==============================] - 76s 1ms/step - loss: 0.0065 - acc: 0.9977 - val_loss: 0.0389 - val_acc: 0.9882\n",
      "Epoch 8/10\n",
      "60000/60000 [==============================] - 75s 1ms/step - loss: 0.0053 - acc: 0.9983 - val_loss: 0.0338 - val_acc: 0.9906\n",
      "Epoch 9/10\n",
      "60000/60000 [==============================] - 79s 1ms/step - loss: 0.0043 - acc: 0.9986 - val_loss: 0.0334 - val_acc: 0.9898\n",
      "Epoch 10/10\n",
      "60000/60000 [==============================] - 79s 1ms/step - loss: 0.0049 - acc: 0.9985 - val_loss: 0.0319 - val_acc: 0.9907\n"
     ]
    },
    {
     "data": {
      "image/png": "[encoded data removed]",
      "text/plain": [
       "<Figure size 432x288 with 1 Axes>"
      ]
     },
     "metadata": {},
     "output_type": "display_data"
    },
    {
     "data": {
      "image/png": "[encoded data removed]",
      "text/plain": [
       "<Figure size 432x288 with 1 Axes>"
      ]
     },
     "metadata": {},
     "output_type": "display_data"
    }
   ],
   "source": [
    "(X_train, y_train), (X_test, y_test) = pre_process()\n",
    "\n",
    "# Load the model from file\n",
    "model = load_model(\"digitrec_model.h5\")\n",
    "# Compile the model\n",
    "model.compile(loss='categorical_crossentropy', optimizer='adam', metrics=['accuracy'])\n",
    "# Fit the data\n",
    "history = model.fit(X_train, y_train, validation_data=(X_test, y_test), epochs=10, batch_size=300)\n",
    "\n",
    "def plot_history(history):\n",
    "    loss_list = [s for s in history.history.keys() if 'loss' in s and 'val' not in s]\n",
    "    val_loss_list = [s for s in history.history.keys() if 'loss' in s and 'val' in s]\n",
    "    acc_list = [s for s in history.history.keys() if 'acc' in s and 'val' not in s]\n",
    "    val_acc_list = [s for s in history.history.keys() if 'acc' in s and 'val' in s]\n",
    "    \n",
    "    if len(loss_list) == 0:\n",
    "        print('Loss is missing in history')\n",
    "        return \n",
    "    \n",
    "    ## As loss always exists\n",
    "    epochs = range(1,len(history.history[loss_list[0]]) + 1)\n",
    "    \n",
    "    ## Loss\n",
    "    plt.figure(1)\n",
    "    for l in loss_list:\n",
    "        plt.plot(epochs, history.history[l], 'b', label='Training loss (' + str(str(format(history.history[l][-1],'.5f'))+')'))\n",
    "    for l in val_loss_list:\n",
    "        plt.plot(epochs, history.history[l], 'g', label='Validation loss (' + str(str(format(history.history[l][-1],'.5f'))+')'))\n",
    "    \n",
    "    plt.title('Loss')\n",
    "    plt.xlabel('Epochs')\n",
    "    plt.ylabel('Loss')\n",
    "    plt.legend()\n",
    "    \n",
    "    ## Accuracy\n",
    "    plt.figure(2)\n",
    "    for l in acc_list:\n",
    "        plt.plot(epochs, history.history[l], 'b', label='Training accuracy (' + str(format(history.history[l][-1],'.5f'))+')')\n",
    "    for l in val_acc_list:    \n",
    "        plt.plot(epochs, history.history[l], 'g', label='Validation accuracy (' + str(format(history.history[l][-1],'.5f'))+')')\n",
    "\n",
    "    plt.title('Accuracy')\n",
    "    plt.xlabel('Epochs')\n",
    "    plt.ylabel('Accuracy')\n",
    "    plt.legend()\n",
    "    plt.show()\n",
    "    \n",
    "plot_history(history)"
   ]
  },
  {
   "cell_type": "markdown",
   "metadata": {},
   "source": [
    "## Model evaluation\n",
    "Now lets test out the model that we created, first we will load the saved model by calling the ```load_model()``` function from keras. We will also use the ```load_image()``` function from the script to convert the image into input that can be read by our model. We will also display the image and the prediction with the ```display_image()``` function in the script."
   ]
  },
  {
   "cell_type": "markdown",
   "metadata": {},
   "source": [
    "#### Preparing an input image\n",
    "For this script I had to convert the image input by the user into input that can be read by our model. The function is outlined below."
   ]
  },
  {
   "cell_type": "code",
   "execution_count": 17,
   "metadata": {},
   "outputs": [],
   "source": [
    "# Load image function takes one parameter, the image path and coverts the image to input that can be read by our model\n",
    "def load_image(img_path):\n",
    "    # load_img function from keras\n",
    "    img = image.load_img(img_path, color_mode=\"grayscale\", target_size=(28, 28))\n",
    "    img_tensor = image.img_to_array(img)\n",
    "    img_tensor = img_tensor.reshape(img_tensor.shape[0], 1, 28, 28).astype('float32')\n",
    "    # img_tensor = numpy.expand_dims(img_tensor, axis=0)\n",
    "    img_tensor = img_tensor / 255\n",
    "    return img_tensor"
   ]
  },
  {
   "cell_type": "markdown",
   "metadata": {},
   "source": [
    "#### Display output\n",
    "The below function will display an image with the prediction output by our model. The code snippet for the function can be seen below."
   ]
  },
  {
   "cell_type": "code",
   "execution_count": 15,
   "metadata": {},
   "outputs": [],
   "source": [
    "# Display image function takes in two parameters the predicted value from our model and the image path.\n",
    "# This function will display the image with the imshow() function from matplotlib \n",
    "def display_image(pred, img_path):\n",
    "    # Adding a title to the Plot \n",
    "    plt.title(\"Prediction: \" + str(pred))\n",
    "    # Using the plt.imshow() to add the image plot to \n",
    "    # the matplotlib figure \n",
    "    img = image.load_img(img_path, target_size=(28, 28))\n",
    "    plt.imshow(img, cmap='gray')\n",
    "    # This just hides x and y tick values by passing in \n",
    "    # empty lists to make the output a little cleaner \n",
    "    plt.xticks([]), plt.yticks([]) \n",
    "    plt.show()"
   ]
  },
  {
   "cell_type": "markdown",
   "metadata": {},
   "source": [
    "### Making a prediction\n",
    "The code snippet below will load the model that we build with the script and will take an input image as an argument and make a prediction on the image and display the output with the image and the given prediction."
   ]
  },
  {
   "cell_type": "code",
   "execution_count": 23,
   "metadata": {},
   "outputs": [
    {
     "data": {
      "image/png": "[encoded data removed]",
      "text/plain": [
       "<Figure size 432x288 with 1 Axes>"
      ]
     },
     "metadata": {},
     "output_type": "display_data"
    }
   ],
   "source": [
    "# Load model\n",
    "model = load_model(\"digitrec_model.h5\")\n",
    "# Load image from file\n",
    "new_image = load_image(\"images/0.png\")\n",
    "# Make prediction\n",
    "pred = model.predict_classes(new_image)\n",
    "# Display image with prediction\n",
    "display_image(pred, \"images/0.png\")"
   ]
  },
  {
   "cell_type": "markdown",
   "metadata": {},
   "source": [
    "## Conlusion\n",
    "In conclusion the overall accuarcy achieved was 99% as seen in the graph above. The overall training took about 10-15 minutes. While writing this notebook and coding up the digitrec.py script I learn alot about Convolutional Nerual Networks and how they are applied to image classification. This overall project was a great learning experience and gave me a real insight into the basics of machine learning and data science."
   ]
  },
  {
   "cell_type": "markdown",
   "metadata": {},
   "source": [
    "## Refrences\n",
    "- [High level outline of CNNs](https://medium.freecodecamp.org/an-intuitive-guide-to-convolutional-neural-networks-260c2de0a050)\n",
    "- [Section on Convultion in Nerual Networks](https://medium.com/@RaghavPrabhu/understanding-of-convolutional-neural-network-cnn-deep-learning-99760835f148)"
   ]
  },
  {
   "cell_type": "code",
   "execution_count": null,
   "metadata": {},
   "outputs": [],
   "source": []
  }
 ],
 "metadata": {
  "kernelspec": {
   "display_name": "Python 3",
   "language": "python",
   "name": "python3"
  },
  "language_info": {
   "codemirror_mode": {
    "name": "ipython",
    "version": 3
   },
   "file_extension": ".py",
   "mimetype": "text/x-python",
   "name": "python",
   "nbconvert_exporter": "python",
   "pygments_lexer": "ipython3",
   "version": "3.6.5"
  }
 },
 "nbformat": 4,
 "nbformat_minor": 2
}
