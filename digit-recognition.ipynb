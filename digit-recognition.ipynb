{
 "cells": [
  {
   "cell_type": "markdown",
   "metadata": {},
   "source": [
    "# Digit recognition Notebook\n",
    "This notebook should outline how the digit recognition script included in this project should work. It should outline how a Convolutional Nerual network works. It should also cover how to run the script and the different functions that it performs.\n",
    "\n",
    "The script was trained using the MNIST dataset that was covered in a previous notebook. MNIST is a dataset that consists of 60,000 training images and labels with hand written digits in the range of 0-9 that was taken from the NIST dataset. "
   ]
  },
  {
   "cell_type": "markdown",
   "metadata": {},
   "source": [
    "## Running the script\n",
    "To run the script you will need to clone the git repository from [here](https://github.com/lanodburke/Emerging-Technologies-Project.git).\n",
    "\n",
    "This script takes in command line arguments which are outlined below: \n",
    "- -h (help): will print some instructions describing the different parameters\n",
    "- -b (build): this will build the keras model that will be used to run the digit recognition\n",
    "- -t (test): this will take in an input file as an argument such as a PNG, JPG or any other image format\n",
    "\n",
    "### Build the model \n",
    "Builds the model and saves it with the .h5 file format\n",
    "```zsh\n",
    "python digitrec.py -b\n",
    "```\n",
    "\n",
    "### Test the model\n",
    "Run the saved model and makes a prediction on the image passed in as an argument\n",
    "```zsh\n",
    "python digitrec.py -t image.png\n",
    "```"
   ]
  },
  {
   "cell_type": "markdown",
   "metadata": {},
   "source": [
    "## Convolutional Neural Networks"
   ]
  },
  {
   "cell_type": "code",
   "execution_count": null,
   "metadata": {},
   "outputs": [],
   "source": []
  }
 ],
 "metadata": {
  "kernelspec": {
   "display_name": "Python 3",
   "language": "python",
   "name": "python3"
  },
  "language_info": {
   "codemirror_mode": {
    "name": "ipython",
    "version": 3
   },
   "file_extension": ".py",
   "mimetype": "text/x-python",
   "name": "python",
   "nbconvert_exporter": "python",
   "pygments_lexer": "ipython3",
   "version": "3.6.5"
  }
 },
 "nbformat": 4,
 "nbformat_minor": 2
}
