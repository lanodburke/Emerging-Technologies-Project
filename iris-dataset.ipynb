{
 "cells": [
  {
   "cell_type": "markdown",
   "metadata": {},
   "source": [
    "# Iris Dataset Notebook\n",
    "The Iris dataset is one of the most common datasets that exists in the field of computer science. It is widely used as an introduction to data science and machine learning for beginners. \n",
    "\n",
    "The Iris dataset is built up of 50 samples of three different species of Iris flowers. The species are:\n",
    "- Iris Versicolor\n",
    "- Iris Verginica\n",
    "- Iris Setosa\n",
    "\n",
    "Each species was measured by their:\n",
    "- Sepal length\n",
    "- Sepal width\n",
    "- Petal length\n",
    "- Petal width\n",
    "\n",
    "In this notebook we are going to explore the differencies between each species of Iris and design a machine learning model to predict a species of Iris with the data input described above.\n",
    "\n",
    "\n",
    "\n",
    "\n"
   ]
  },
  {
   "cell_type": "markdown",
   "metadata": {},
   "source": []
  }
 ],
 "metadata": {
  "kernelspec": {
   "display_name": "Python 3",
   "language": "python",
   "name": "python3"
  },
  "language_info": {
   "codemirror_mode": {
    "name": "ipython",
    "version": 3
   },
   "file_extension": ".py",
   "mimetype": "text/x-python",
   "name": "python",
   "nbconvert_exporter": "python",
   "pygments_lexer": "ipython3",
   "version": "3.6.5"
  }
 },
 "nbformat": 4,
 "nbformat_minor": 2
}
