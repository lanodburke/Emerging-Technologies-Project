{
 "cells": [
  {
   "cell_type": "markdown",
   "metadata": {},
   "source": [
    "# MNIST Dataset Notebook\n",
    "The MNIST dataset is a dataset that is built up of hand written digits derived from the NIST dataset. It is used for people to derive machine learning models for pattern recognition from a real world set of data. \n",
    "\n",
    "The MNIST data set is widely used for training image recognition classifiers. \n",
    "\n",
    "The dataset consists of:\n",
    "- 60,000 training images\n",
    "- 10,000 test images\n",
    "\n",
    "The dataset can be found on this website [here](http://yann.lecun.com/exdb/mnist/)."
   ]
  },
  {
   "cell_type": "markdown",
   "metadata": {},
   "source": [
    "## MNIST Dataset File format\n",
    "> All the integers in the files are stored in the MSB first (high endian) format used by most non-Intel processors. Users of Intel processors and other low-endian machines must flip the bytes of the header.\n",
    "\n",
    "The MNIST dataset is stored with the IDX file format extension. The IDX file format is a simple format for vectors and multidimensional matrices of various numerical types. This file format allows for quick\n",
    "\n",
    "The MNIST dataset consists of four files outlined below:\n",
    "- [train-images-idx3-ubyte.gz](http://yann.lecun.com/exdb/mnist/train-images-idx3-ubyte.gz):\n",
    "    - training set images (9912422 bytes) \n",
    "- [train-labels-idx1-ubyte.gz](http://yann.lecun.com/exdb/mnist/train-labels-idx1-ubyte.gz): \n",
    "    - training set labels (28881 bytes)\n",
    "- [t10k-images-idx3-ubyte.gz](http://yann.lecun.com/exdb/mnist/t10k-images-idx3-ubyte.gz): \n",
    "    - test set images (1648877 bytes) \n",
    "- [t10k-labels-idx1-ubyte.gz](http://yann.lecun.com/exdb/mnist/t10k-labels-idx1-ubyte.gz):\n",
    "    - test set labels (4542 bytes)\n",
    "\n",
    "> The first 5000 examples of the test set are taken from the original NIST training set. The last 5000 are taken from the original NIST test set. The first 5000 are cleaner and easier than the last 5000.\n",
    "\n",
    "### IDX File Format\n",
    "The IDX file format is a simple format for vectors and multidimensional matrices of various numerical types.\n",
    "The basic format is:\n",
    "\n",
    "- magic number \n",
    "    - size in dimension 0 \n",
    "    - size in dimension 1 \n",
    "    - size in dimension 2 \n",
    "    - size in dimension N \n",
    "    - data\n",
    "\n",
    "The magic number is an integer (MSB first). The first 2 bytes are always 0.\n",
    "\n",
    "The third byte codes the type of the data: \n",
    "- 0x08: unsigned byte \n",
    "- 0x09: signed byte \n",
    "- 0x0B: short (2 bytes) \n",
    "- 0x0C: int (4 bytes) \n",
    "- 0x0D: float (4 bytes) \n",
    "- 0x0E: double (8 bytes)\n",
    "\n",
    "The 4-th byte codes the number of dimensions of the vector/matrix: 1 for vectors, 2 for matrices....\n",
    "\n",
    "The sizes in each dimension are 4-byte integers (MSB first, high endian, like in most non-Intel processors).\n",
    "\n",
    "The data is stored like in a C array, i.e. the index in the last dimension changes the fastest. \n",
    "  \n",
    "\n",
    "### Training set label file (train-labels-idx1-ubyte)\n",
    "\n"
   ]
  },
  {
   "cell_type": "code",
   "execution_count": null,
   "metadata": {},
   "outputs": [],
   "source": []
  }
 ],
 "metadata": {
  "kernelspec": {
   "display_name": "Python 3",
   "language": "python",
   "name": "python3"
  },
  "language_info": {
   "codemirror_mode": {
    "name": "ipython",
    "version": 3
   },
   "file_extension": ".py",
   "mimetype": "text/x-python",
   "name": "python",
   "nbconvert_exporter": "python",
   "pygments_lexer": "ipython3",
   "version": "3.6.5"
  }
 },
 "nbformat": 4,
 "nbformat_minor": 2
}
