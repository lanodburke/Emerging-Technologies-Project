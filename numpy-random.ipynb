{
 "cells": [
  {
   "cell_type": "markdown",
   "metadata": {},
   "source": [
    "![alt text](https://upload.wikimedia.org/wikipedia/commons/1/1a/NumPy_logo.svg \"NumPy Logo\")"
   ]
  },
  {
   "cell_type": "markdown",
   "metadata": {},
   "source": [
    "This notebook is for the Emerging Technologies module in GMIT. This notebook should cover the use of the python package numpy. The numpy documentation and a majority of the references for this notebook can be found [here](https://docs.scipy.org/doc/numpy/reference/index.html). The GitHub repository can be found [here](https://github.com/lanodburke/Emerging-Technologies-Project).\n",
    "\n",
    "This notebook should specifically cover the use of the NumPy random package. The documentation can be found [here](https://docs.scipy.org/doc/numpy-1.15.1/reference/routines.random.html). "
   ]
  },
  {
   "cell_type": "markdown",
   "metadata": {},
   "source": [
    "## Using NumPy"
   ]
  },
  {
   "cell_type": "code",
   "execution_count": 26,
   "metadata": {},
   "outputs": [],
   "source": [
    "# To use NumPy you have to install it either using pythons package installer \n",
    "# pip or if you are using anaconda you can use the conda install tool\n",
    "\n",
    "# pip install numpy\n",
    "# conda install numpy\n",
    "\n",
    "# To use the package import it as follows:\n",
    "\n",
    "import numpy as np"
   ]
  },
  {
   "cell_type": "markdown",
   "metadata": {},
   "source": [
    "## NumPy random\n",
    "The NumPy random package is a large subset of the NumPy package and is mainly used for random number generation in scientific computing."
   ]
  },
  {
   "cell_type": "markdown",
   "metadata": {},
   "source": [
    "### Probability Distributions\n",
    "> A probability distribution is a function that describes the likelihood of obtaining the possible values that a random variable can assume. In other words, the values of the variable vary based on the underlying probability distribution.\n",
    "\n",
    "NumPy provides a number of statistical probability distributions to use for random sampling. The most commonly used are: \n",
    "- Normal\n",
    "- Uniform\n",
    "- Binomial\n",
    "- Bernoulli\n",
    "\n",
    "To help us understand these distributions I am going to use matplotlib.pyplot package to plot each distribution."
   ]
  },
  {
   "cell_type": "code",
   "execution_count": 27,
   "metadata": {},
   "outputs": [],
   "source": [
    "# To use matplotlib.pyplot import it as follows\n",
    "import matplotlib.pyplot as plt"
   ]
  },
  {
   "cell_type": "markdown",
   "metadata": {},
   "source": [
    "### Normal Distribution\n",
    "> When you understand the properties of the normal distribution, you’ll find it easier to interpret statistical data. A continuous random variable X has a normal distribution if its values fall into a smooth (continuous) curve with a bell-shaped pattern.\n",
    "\n",
    "Every normal distribution has certain properties. You use these properties to determine the relative standing of any particular result on the distribution, and to find probabilities. The properties of any normal distribution are as follows:\n",
    "\n",
    "- Its shape is symmetric (that is, when you cut it in half the two pieces are mirror images of each other).\n",
    "\n",
    "- Its distribution has a bump in the middle, with tails going down and out to the left and right.\n",
    "\n",
    "- The mean and the median are the same and lie directly in the middle of the distribution (due to symmetry).\n",
    "\n",
    "- Its standard deviation measures the distance on the distribution from the mean to the inflection point (the place where the curve changes from an “upside-down-bowl” shape to a “right-side-up-bowl” shape)."
   ]
  },
  {
   "cell_type": "code",
   "execution_count": 28,
   "metadata": {},
   "outputs": [
    {
     "data": {
      "text/plain": [
       "[<matplotlib.lines.Line2D at 0x10ba04be0>]"
      ]
     },
     "execution_count": 28,
     "metadata": {},
     "output_type": "execute_result"
    },
    {
     "data": {
      "image/png": "[encoded data removed]",
      "text/plain": [
       "<Figure size 432x288 with 1 Axes>"
      ]
     },
     "metadata": {},
     "output_type": "display_data"
    }
   ],
   "source": [
    "# Draw samples from distribution\n",
    "mu, sigma = 0, 0.1 # mean and standard deviation\n",
    "s = np.random.normal(mu, sigma, 1000)\n",
    "\n",
    "#Display the histogram of the samples, along with the probability density function:\n",
    "count, bins, ignored = plt.hist(s, 30, density=True)\n",
    "\n",
    "plt.plot(bins, 1/(sigma * np.sqrt(2 * np.pi)) * np.exp( - (bins - mu)**2 / (2 * sigma**2) ), linewidth=2, color='r')"
   ]
  },
  {
   "cell_type": "markdown",
   "metadata": {},
   "source": [
    "### Uniform Distribution\n",
    "> A uniform distribution, sometimes also known as a rectangular distribution, is a distribution that has constant probability.\n",
    "\n",
    "The uniform distribution is a continuous distribution that assigns only positive probabilities within a specified interval (a, b) — that is, all values between a and b. (a and b are two constants; they may be negative or positive.)"
   ]
  },
  {
   "cell_type": "code",
   "execution_count": 29,
   "metadata": {},
   "outputs": [
    {
     "data": {
      "image/png": "[encoded data removed]",
      "text/plain": [
       "<Figure size 432x288 with 1 Axes>"
      ]
     },
     "metadata": {},
     "output_type": "display_data"
    }
   ],
   "source": [
    "# Draw samples from the distribution:\n",
    "s = np.random.uniform(-1,0,1000)\n",
    "\n",
    "# Display the histogram of the samples, along with the probability density function:\n",
    "count, bins, ignored = plt.hist(s, 15, density=True)\n",
    "plt.plot(bins, np.ones_like(bins), linewidth=2, color='r')\n",
    "plt.show()"
   ]
  },
  {
   "cell_type": "markdown",
   "metadata": {},
   "source": [
    "### Refrences \n",
    "- [Statistical Distributions](http://blog.cloudera.com/blog/2015/12/common-probability-distributions-the-data-scientists-crib-sheet/)\n",
    "- [Normal Distribution](https://www.dummies.com/education/math/statistics/understanding-the-statistical-properties-of-the-normal-distribution/)"
   ]
  },
  {
   "cell_type": "code",
   "execution_count": null,
   "metadata": {},
   "outputs": [],
   "source": []
  }
 ],
 "metadata": {
  "kernelspec": {
   "display_name": "Python 3",
   "language": "python",
   "name": "python3"
  },
  "language_info": {
   "codemirror_mode": {
    "name": "ipython",
    "version": 3
   },
   "file_extension": ".py",
   "mimetype": "text/x-python",
   "name": "python",
   "nbconvert_exporter": "python",
   "pygments_lexer": "ipython3",
   "version": "3.6.5"
  }
 },
 "nbformat": 4,
 "nbformat_minor": 2
}
